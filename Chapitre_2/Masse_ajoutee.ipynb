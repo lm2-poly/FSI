{
 "cells": [
  {
   "cell_type": "code",
   "execution_count": 3,
   "id": "a1baba92",
   "metadata": {},
   "outputs": [
    {
     "data": {
      "application/javascript": [
       "MathJax.Hub.Config({\n",
       "    TeX: { equationNumbers: { autoNumber: \"AMS\" } }\n",
       "});\n"
      ],
      "text/plain": [
       "<IPython.core.display.Javascript object>"
      ]
     },
     "metadata": {},
     "output_type": "display_data"
    }
   ],
   "source": [
    "%%javascript\n",
    "MathJax.Hub.Config({\n",
    "    TeX: { equationNumbers: { autoNumber: \"AMS\" } }\n",
    "});"
   ]
  },
  {
   "cell_type": "markdown",
   "id": "1617c0b8",
   "metadata": {},
   "source": [
    "# MEC6514 - Masse ajoutée"
   ]
  },
  {
   "cell_type": "markdown",
   "id": "c9f6f1f4",
   "metadata": {},
   "source": [
    "Ce document est un support au cours sur la masse ajoutée. Vous y retrouverez la démarche pour obtenir la masse ajoutée d'un cylindre circulaire, à l'aide de Python, ainsi que les formules pour d'autres formes plus complexes, fournies par Naudascher et Rockwell (1994)."
   ]
  },
  {
   "cell_type": "markdown",
   "id": "2b8ac9b2",
   "metadata": {},
   "source": [
    "## Masse ajoutée d'un cylindre circulaire"
   ]
  },
  {
   "cell_type": "markdown",
   "id": "7489e328",
   "metadata": {},
   "source": [
    "Pour pouvoir déterminer la masse ajoutée d'un cylindre circulaire, on applique la théorie des écoulements potentiels, qui nous permet de simplifier les équations de Navier-Stokes. Ceci amène les hypothèses suivantes :\n",
    "- Fluide parfait ($R_e \\rightarrow \\infty$ et viscosité négligeable)\n",
    "- Ecoulement irrotationnel (vorticité nulle)\n",
    "- Fluide incompressible (hypothèse que l'on ajoute et non obligatoire)"
   ]
  },
  {
   "cell_type": "markdown",
   "id": "05575185",
   "metadata": {},
   "source": [
    "Avant de décrire le cylindre, on importe les librairies de Python nécessaires :"
   ]
  },
  {
   "cell_type": "code",
   "execution_count": 4,
   "id": "cf5b8836",
   "metadata": {},
   "outputs": [],
   "source": [
    "# librairie et outils pour le calcul symbolique\n",
    "from sympy import symbols,dsolve,diff,Function,lambdify\n",
    "import sympy as sp\n",
    "\n",
    "# librairie pour le calcul numérique\n",
    "import numpy as np\n",
    "\n",
    "# librairie pour les figures et tracés\n",
    "import matplotlib.pyplot as plt"
   ]
  },
  {
   "cell_type": "markdown",
   "id": "aad0b45c",
   "metadata": {},
   "source": [
    "On considère un cylindre circulaire de rayon $a$ se déplaçant à la vitesse $U$ et l'accélération $\\dot{U}$ dans un fluide au repos remplissant un domaine infini (de masse volumique $\\rho$)."
   ]
  },
  {
   "cell_type": "code",
   "execution_count": 5,
   "id": "dd0bdd6c",
   "metadata": {},
   "outputs": [],
   "source": [
    "t = symbols('t') # permet de définir t comme une variable inconnue\n",
    "\n",
    "# les paramètres suivants peuvent être changés à votre guise\n",
    "a = 0.02         # rayon du cylindre (en m)\n",
    "U = t+2          # Vitesse dépendant du temps, pour une accélération non nulle\n",
    "rho = 1000       # masse volumique du fluide (en kg/m^3)"
   ]
  },
  {
   "cell_type": "markdown",
   "id": "0df17ec7",
   "metadata": {},
   "source": [
    "On définit les coordonnées comme cylindriques (ou polaires). Pour obtenir la masse ajoutée du cylindre, il faut déterminer dans un premier temps le champs de vitesse du fluide environnant. Pour cela, on définit les conditions limites :\n",
    "- Condition de non-pénétration sur la paroi du cylindre :  \n",
    "    à $r=a$, la vitesse radiale $u_r=U\\cos{\\theta}$\n",
    "- Loin du cylindre, pas d'effet de celui-ci sur l'écoulement :  \n",
    "    à $r=\\infty$, la vitesse radiale $u_r=0$ et la vitesse azimutale $u_{\\theta}=0$"
   ]
  },
  {
   "cell_type": "markdown",
   "id": "da76a004",
   "metadata": {},
   "source": [
    "On résout l'équation de Laplace en coordonnées cylindriques (et 2D), dont la solution est le potentiel de déplacement fluide $\\phi(r,\\theta)$ :\n",
    "\\begin{equation*}\n",
    "\\frac{1}{r} \\frac{\\partial}{\\partial r}\\left(r \\frac{\\partial\\phi}{\\partial r}\\right) + \\frac{1}{r^2} \\frac{\\partial^2\\phi}{\\partial\\theta^2}= 0\n",
    "\\end{equation*}\n",
    "Pour résoudre cette équation, on applique la méthode de séparation des variables : $\\phi(r,\\theta) = R(r)T(\\theta)$, ce qui nous donne :\n",
    "\\begin{equation*}\n",
    "\\frac{r}{R(r)}\\frac{\\partial}{\\partial r}\\left(r \\frac{\\partial R}{\\partial r}\\right)=-\\frac{1}{T(\\theta)} \\frac{\\partial^2 T}{\\partial\\theta^2}\n",
    "\\end{equation*}\n",
    "Les termes $R(r)$ et $T(\\theta)$ étant indépendants, chaque côté de l'expression est égal à une constante. En posant cette constante égale à $1$, on obtient deux équations découplées, qu'il nous est possible de résoudre avec Python :\n",
    "\\begin{equation*}\n",
    "\\frac{\\partial^2 T}{\\partial\\theta^2}+T(\\theta)=0 \\textrm{ et }r^2 \\frac{\\partial^2 R}{\\partial r^2} +r \\frac{\\partial R}{\\partial r} - R(r) = 0\n",
    "\\end{equation*}"
   ]
  },
  {
   "cell_type": "code",
   "execution_count": 6,
   "id": "885459d8",
   "metadata": {},
   "outputs": [
    {
     "name": "stdout",
     "output_type": "stream",
     "text": [
      "T(theta) =  C1*sin(theta) + C2*cos(theta)\n"
     ]
    }
   ],
   "source": [
    "theta = symbols('theta')\n",
    "T = Function('T')(theta) # on introduit T la fonction symbolique d'argument theta\n",
    "\n",
    "# dsolve résoud des EDO et diff est l'opérateur différentiel symbolique\n",
    "T_theta = dsolve(diff(diff(T,theta),theta)+T,T).args[1]\n",
    "print('T(theta) = ',T_theta)"
   ]
  },
  {
   "cell_type": "markdown",
   "id": "f7ddb9e7",
   "metadata": {},
   "source": [
    "On procède de la même manière avec $R(r)$ :"
   ]
  },
  {
   "cell_type": "code",
   "execution_count": 7,
   "id": "1e03998d",
   "metadata": {},
   "outputs": [
    {
     "name": "stdout",
     "output_type": "stream",
     "text": [
      " R(r) =  C1/r + C2*r\n"
     ]
    }
   ],
   "source": [
    "r = symbols('r')\n",
    "R = Function('R')(r)\n",
    "\n",
    "R_r = dsolve(r**2*diff(diff(R,r),r)+r*diff(R,r)-R,R).args[1]\n",
    "print(' R(r) = ',R_r)"
   ]
  },
  {
   "cell_type": "markdown",
   "id": "f116fa4d",
   "metadata": {},
   "source": [
    "On applique ensuite les conditions limites pour déterminer les constantes inconnues :  \n",
    "- $r = \\infty$, $u_r=0$ $\\rightarrow$ $C_2^r=0$\n",
    "- $r = \\infty$, $u_{\\theta}=0$ $\\rightarrow$ $C_2^{\\theta}=C_1^{\\theta}\\tan{\\theta}$\n",
    "- $r=a$, $u_r=U\\cos{\\theta}$ $\\rightarrow$ $2 C_1^r C_1^{\\theta} = -a^2 U$\n",
    "  \n",
    "Soit :\n",
    "\\begin{equation*}\n",
    "\\phi=-\\frac{a^2}{r} U\\cos{\\theta}\n",
    "\\end{equation*}\n",
    "Et :\n",
    "\\begin{equation*}\n",
    "u_r = \\frac{\\partial\\phi}{\\partial r}=\\frac{a^2}{r^2} U\\cos{\\theta} \\textrm{, } u_{\\theta} = \\frac{1}{r}\\frac{\\partial\\phi}{\\partial\\theta}=\\frac{a^2}{r^2} U\\sin{\\theta}\n",
    "\\end{equation*}"
   ]
  },
  {
   "cell_type": "markdown",
   "id": "4c71f647",
   "metadata": {},
   "source": [
    "On peut maintenant tracer les lignes de courant autour du cylindre. Ce dernier étant en accélération, il est nécessaire de choisir un instant auquel on effectue le tracé. On a arbitrairement choisi l'instant initial $t=0$, mais vous pouvez changer celui-ci."
   ]
  },
  {
   "cell_type": "code",
   "execution_count": 8,
   "id": "e8d79385",
   "metadata": {},
   "outputs": [
    {
     "data": {
      "image/png": "[encoded data removed]",
      "text/plain": [
       "<Figure size 720x720 with 1 Axes>"
      ]
     },
     "metadata": {
      "needs_background": "light"
     },
     "output_type": "display_data"
    }
   ],
   "source": [
    "U_0 = lambdify(t,U)(0) # changement d'instant à effectuer ici\n",
    "phi = -a**2/r*U_0*sp.cos(theta)\n",
    "\n",
    "# vitesse radiale\n",
    "ur = lambdify((r,theta),diff(phi,r)) # passage d'une expression symbolique à une fonction numérique\n",
    "\n",
    "# vitesse tangentielle (ou azimutale)\n",
    "utheta = lambdify((r,theta),1/r*diff(phi,theta))\n",
    "\n",
    "''' Calcul du champs de vitesse en coordonnées cartésiennes pour tracer '''\n",
    "Ux = np.zeros((int(round(5*a*1000,0))+1,int(round(5*a*1000,0))+1))\n",
    "Vy = np.zeros((int(round(5*a*1000,0))+1,int(round(5*a*1000,0))+1))\n",
    "\n",
    "# x1 -> y et x2 -> x\n",
    "x1,x2 = np.arange(-2.5*a,2.5*a+0.001,0.001), np.arange(-2.5*a,2.5*a+0.001,0.001)\n",
    "i = 0\n",
    "while i < int(round(5*a*1000,0))+1:\n",
    "    j = 0\n",
    "    while j < int(round(5*a*1000,0))+1:\n",
    "        # calcul des coordonnées cylindriques\n",
    "        r = np.sqrt((x1[i])**2+(x2[j])**2)\n",
    "        theta = np.arcsin(x1[i]/np.sqrt((x1[i])**2+(x2[j])**2))\n",
    "        if r>a:\n",
    "            if x1[i] > 0 and x2[j] > 0:\n",
    "                # quadrant supérieur droit\n",
    "                Ux[i,j] = ur(r,theta)*np.cos(theta)-utheta(r,theta)*np.sin(theta)\n",
    "                Vy[i,j] = ur(r,theta)*np.sin(theta)+utheta(r,theta)*np.cos(theta)\n",
    "            elif x1[i] > 0 and x2[j] < 0:\n",
    "                # quadrant supérieur gauche\n",
    "                Ux[i,j] = -ur(r,np.pi-theta)*np.cos(theta)-utheta(r,np.pi-theta)*np.sin(theta)\n",
    "                Vy[i,j] = ur(r,np.pi-theta)*np.sin(theta)-utheta(r,np.pi-theta)*np.cos(theta)\n",
    "            elif x1[i] < 0 and x2[j] < 0:\n",
    "                # quadrant inférieur gauche\n",
    "                Ux[i,j] = -ur(r,np.pi-theta)*np.cos(theta)-utheta(r,np.pi-theta)*np.sin(theta)\n",
    "                Vy[i,j] = ur(r,np.pi-theta)*np.sin(theta)-utheta(r,np.pi-theta)*np.cos(theta)\n",
    "            elif x1[i] < 0 and x2[j] > 0:\n",
    "                # quadrant inférieur droit\n",
    "                Ux[i,j] = ur(r,theta)*np.cos(theta)-utheta(r,theta)*np.sin(theta)\n",
    "                Vy[i,j] = ur(r,theta)*np.sin(theta)+utheta(r,theta)*np.cos(theta)\n",
    "        j += 1\n",
    "    i += 1\n",
    "            \n",
    "''' Tracé des lignes de courant '''\n",
    "X1,X2 = np.meshgrid(x1,x2)\n",
    "s_p_init = [(a*np.cos(i),a*np.sin(i)) for i in np.linspace(0,2*np.pi,36+1)] \n",
    "s_p = s_p_init[:8]+s_p_init[11:25]+s_p_init[29:-1] # sélection des points de départ des lignes de courant\n",
    "cylinder = plt.Circle((0, 0),a,ec='k',fc='w',lw=3,zorder=10) # définition du cylindre\n",
    "\n",
    "fig = plt.figure(figsize=(10,10))\n",
    "ax = fig.gca()\n",
    "ax.streamplot(X1,X2,Ux,Vy,color='k',density=10,start_points=s_p)\n",
    "ax.add_patch(cylinder)\n",
    "ax.set_xlim(-2.5*a,2.5*a)\n",
    "ax.set_ylim(-2.5*a,2.5*a)\n",
    "ax.set_xlabel('$x (m)$')\n",
    "ax.set_ylabel('$y (m)$')\n",
    "ax.set_title('Vélocité - Lignes de courant')\n",
    "plt.show()"
   ]
  },
  {
   "cell_type": "markdown",
   "id": "0770ddcb",
   "metadata": {},
   "source": [
    "Le potentiel de déplacement fluide $\\phi$ étant déterminé, on évalue la distribution de la pression $p$ avec l'équation d'Euler :\n",
    "\\begin{equation*}\n",
    "\\rho\\frac{\\partial\\phi}{\\partial t} + \\rho\\frac{1}{2}\\left(\\overrightarrow{\\nabla}\\phi\\right)^2+p=0\n",
    "\\end{equation*}"
   ]
  },
  {
   "cell_type": "code",
   "execution_count": 18,
   "id": "745bfb1f",
   "metadata": {},
   "outputs": [
    {
     "name": "stdout",
     "output_type": "stream",
     "text": [
      "p =  -U**2*a**4*rho/(2*r**4) + U_point*a**2*rho*cos(theta)/r\n"
     ]
    }
   ],
   "source": [
    "# on rédéfinit symboliquement ces variables car elles ont été utilisées précédemment\n",
    "a,r,theta,rho,U,U_point = symbols('a r theta rho U U_point')\n",
    "phi = -a**2/r*U*sp.cos(theta)\n",
    "dphi_dt = -a**2/r*U_point*sp.cos(theta)\n",
    "\n",
    "grad_phi = np.array([[diff(phi,r)],[1/r*diff(phi,theta)]]) # définition du gradient de phi\n",
    "p = sp.simplify(-(rho*dphi_dt+rho*1/2*np.dot(grad_phi.T,grad_phi)))\n",
    "p = p[0,0]\n",
    "print('p = ',p)"
   ]
  },
  {
   "cell_type": "markdown",
   "id": "b63642d7",
   "metadata": {},
   "source": [
    "On calcule la force exercée par le fluide sur le cylindre en intégrant la pression sur la surface du cylindre :\n",
    "\\begin{equation*}\n",
    "F_x = \\int\\limits^{2\\pi}_0 pa\\cos{\\theta}d\\theta \\textrm{, en }r=a\n",
    "\\end{equation*}"
   ]
  },
  {
   "cell_type": "code",
   "execution_count": 10,
   "id": "6b21eb01",
   "metadata": {},
   "outputs": [
    {
     "name": "stdout",
     "output_type": "stream",
     "text": [
      "Fx =  pi*U_point*a**2*rho\n"
     ]
    }
   ],
   "source": [
    "Fx = sp.integrate(p*a*sp.cos(theta),(theta,0,2*sp.pi))\n",
    "Fx = sp.nsimplify(Fx,tolerance=1e-10).subs(r,a)\n",
    "print('Fx = ',Fx)"
   ]
  },
  {
   "cell_type": "markdown",
   "id": "1232ea0c",
   "metadata": {},
   "source": [
    "Ce qui nous permet de déterminer la masse ajoutée du cylindre par unité de longueur $m_f$ avec $F_x=m_f\\dot{U}$."
   ]
  },
  {
   "cell_type": "code",
   "execution_count": 11,
   "id": "eb109ebb",
   "metadata": {},
   "outputs": [
    {
     "name": "stdout",
     "output_type": "stream",
     "text": [
      "Expression de mf :  pi*a**2*rho\n",
      "mf =  1.25663706143592\n"
     ]
    }
   ],
   "source": [
    "mf = Fx/U_point\n",
    "print('Expression de mf : ',mf)\n",
    "\n",
    "mf = mf.subs([(sp.pi,np.pi),(a,0.02),(rho,1000)]) # on remplace les variables par leur valeur, vous pouvez les modifier\n",
    "print('mf = ',mf)"
   ]
  },
  {
   "cell_type": "markdown",
   "id": "55af7cd4",
   "metadata": {},
   "source": [
    "$A_{xx}$ (respectivement $A_{yy}$) est la contribution du mouvement du cylindre dans la direction $x$ (respectivement $y$) à la masse ajoutée dans la direction $x$ (respectivement $y$). Les deux sont égales pour le cylindre circulaire et c'est leur valeur que l'on vient de calculer.\n",
    "Pour le cas du cylindre circulaire, la contribution du mouvement dans la direction $y$ à la\n",
    "masse ajoutée dans la direction $x$ $A_{xy}$ est nul.  \n",
    "  \n",
    "Il nous est possible de calculer ces termes pour d'autres formes, dont les expressions ont été évaluées par Naudascher et Rockwell (1994)."
   ]
  },
  {
   "cell_type": "markdown",
   "id": "7fbdf137",
   "metadata": {},
   "source": [
    "Les formes suivantes sont centrées en $(0,0)$, c'est pour cela que chaque paramètre demandé est la moitié de la longueur habituellement utilisée. De plus, pour certaines formes, les ratios entre paramètres sont limités, car nous utilisons les résultats (parfois expérimentaux) fournis par Naudascher et Rockwell (1994). Vous êtes libres de modifier les paramètres pour calculer la masse ajoutée associée."
   ]
  },
  {
   "cell_type": "markdown",
   "id": "98d775aa",
   "metadata": {},
   "source": [
    "## Masse ajoutée d'une ellipse"
   ]
  },
  {
   "cell_type": "code",
   "execution_count": 12,
   "id": "6b6fdb5e",
   "metadata": {},
   "outputs": [
    {
     "name": "stdout",
     "output_type": "stream",
     "text": [
      "Axx =  0.3141592653589793\n",
      "Ayy =  1.2566370614359172\n",
      "Axy =  3.534291735288518e-05\n"
     ]
    }
   ],
   "source": [
    "a = 0.02   # demi grand-axe (en m)\n",
    "b = 0.01   # demi petit-axe (en m)\n",
    "rho = 1000 # masse volumique du fluide (en kg/m3)\n",
    "\n",
    "print('Axx = ',rho*np.pi*b**2)\n",
    "print('Ayy = ',rho*np.pi*a**2)\n",
    "print('Axy = ',rho*np.pi/8*(a**2-b**2)**2)"
   ]
  },
  {
   "cell_type": "markdown",
   "id": "39de3a39",
   "metadata": {},
   "source": [
    "## Masse ajoutée d'un rectangle"
   ]
  },
  {
   "cell_type": "code",
   "execution_count": 13,
   "id": "2c7df5a8",
   "metadata": {},
   "outputs": [
    {
     "name": "stdout",
     "output_type": "stream",
     "text": [
      "Ayy =  2.4881413816431164\n",
      "Axy =  7.539822368615503e-05\n"
     ]
    }
   ],
   "source": [
    "a = 0.02   # demie largeur (en m)\n",
    "a_b = 0.2  # ratio de la demie largeur sur la demie hauteur (en m) - à choisir parmi 0.1,0.2,0.5,1.0,2.0,5.0\n",
    "rho = 1000 # masse volumique du fluide (en kg/m3)\n",
    "\n",
    "b = a/a_b\n",
    "if a_b == 0.1:\n",
    "    alpha = 2.23\n",
    "    alpha2 = 0.147\n",
    "elif a_b == 0.2: \n",
    "    alpha = 1.98\n",
    "    alpha2 = 0.15\n",
    "elif a_b == 0.5:\n",
    "    alpha = 1.7\n",
    "    alpha2 = 0.15\n",
    "elif a_b == 1:\n",
    "    alpha = 1.51\n",
    "    alpha2 = 0.234\n",
    "elif a_b == 2:\n",
    "    alpha = 1.36\n",
    "    alpha1 = 0.15\n",
    "    alpha2 = 0\n",
    "elif a_b == 5:\n",
    "    alpha = 1.21\n",
    "    alpha1 = 0.15\n",
    "    alpha2 = 0\n",
    "    \n",
    "print('Ayy = ',alpha*rho*np.pi*a**2)\n",
    "if alpha2 != 0:\n",
    "    print('Axy = ',alpha2*rho*np.pi*a**4)\n",
    "else:\n",
    "    print('Axy = ',alpha1*rho*np.pi*b**4)"
   ]
  },
  {
   "cell_type": "markdown",
   "id": "1d137554",
   "metadata": {},
   "source": [
    "## Masse ajoutée d'une plaque"
   ]
  },
  {
   "cell_type": "markdown",
   "id": "416a9d92",
   "metadata": {},
   "source": [
    "L'épaisseur de la plaque est considérée négligeable devant sa demie largeur."
   ]
  },
  {
   "cell_type": "code",
   "execution_count": 14,
   "id": "d6aca788",
   "metadata": {},
   "outputs": [
    {
     "name": "stdout",
     "output_type": "stream",
     "text": [
      "Axx = 0\n",
      "Ayy =  1.2566370614359172\n",
      "Axy =  6.283185307179586e-05\n"
     ]
    }
   ],
   "source": [
    "a = 0.02   # demie largeur de la plaque (en m)\n",
    "rho = 1000 # masse volumique du fluide (en kg/m3)\n",
    "\n",
    "print('Axx = 0')\n",
    "print('Ayy = ',rho*np.pi*a**2)\n",
    "print('Axy = ',rho*np.pi/8*a**4)"
   ]
  },
  {
   "cell_type": "markdown",
   "id": "e6dc3876",
   "metadata": {},
   "source": [
    "## Masse ajoutée d'un losange"
   ]
  },
  {
   "cell_type": "code",
   "execution_count": 15,
   "id": "d121eab0",
   "metadata": {},
   "outputs": [
    {
     "name": "stdout",
     "output_type": "stream",
     "text": [
      "Ayy =  0.7665486074759096\n"
     ]
    }
   ],
   "source": [
    "a = 0.02   # demie largeur (en m)\n",
    "a_b = 0.2  # ratio de la demie largeur sur la demie hauteur (en m) - à choisir parmi 0.2,0.5,1.0,2.0\n",
    "rho = 1000 # masse volumique du fluide (en kg/m3)\n",
    "\n",
    "b = a/a_b\n",
    "if a_b == 0.2:\n",
    "    alpha = 0.61\n",
    "elif a_b == 0.5:\n",
    "    alpha = 0.67\n",
    "elif a_b == 1:\n",
    "    alpha = 0.76\n",
    "elif a_b == 2.0:\n",
    "    alpha = 0.85\n",
    "\n",
    "print('Ayy = ',alpha*rho*np.pi*a**2)"
   ]
  },
  {
   "cell_type": "markdown",
   "id": "b7063040",
   "metadata": {},
   "source": [
    "## Masse ajoutée d'une poutre en I"
   ]
  },
  {
   "cell_type": "code",
   "execution_count": 16,
   "id": "b89e943b",
   "metadata": {},
   "outputs": [
    {
     "name": "stdout",
     "output_type": "stream",
     "text": [
      "Ayy =  2.6515041996297852\n"
     ]
    }
   ],
   "source": [
    "a = 0.02   # demie largeur de la poutre (en m)\n",
    "rho = 1000 # masse volumique du fluide (en kg/m3)\n",
    "\n",
    "# tiré des expériences de Naudascher et Rockwell\n",
    "d = a/2.6\n",
    "b = d/3.6\n",
    "\n",
    "print('Ayy = ',2.11*rho*np.pi*a**2)"
   ]
  },
  {
   "cell_type": "markdown",
   "id": "fd40195e",
   "metadata": {},
   "source": [
    "## Masse ajoutée d'une poutre en croix"
   ]
  },
  {
   "cell_type": "code",
   "execution_count": 17,
   "id": "c5e73f62",
   "metadata": {},
   "outputs": [
    {
     "name": "stdout",
     "output_type": "stream",
     "text": [
      "Axx =  1.2566370614359172\n",
      "Axy =  0.25464790894703254\n"
     ]
    }
   ],
   "source": [
    "a = 0.02   # taille d'une branche (en m)\n",
    "rho = 1000 # masse volumique du fluide (en kg/m3)\n",
    "\n",
    "print('Axx = ', rho*np.pi*a**2)\n",
    "print('Axy = ',rho*2/np.pi*a**2)"
   ]
  }
 ],
 "metadata": {
  "kernelspec": {
   "display_name": "Python 3",
   "language": "python",
   "name": "python3"
  },
  "language_info": {
   "codemirror_mode": {
    "name": "ipython",
    "version": 3
   },
   "file_extension": ".py",
   "mimetype": "text/x-python",
   "name": "python",
   "nbconvert_exporter": "python",
   "pygments_lexer": "ipython3",
   "version": "3.8.8"
  }
 },
 "nbformat": 4,
 "nbformat_minor": 5
}
