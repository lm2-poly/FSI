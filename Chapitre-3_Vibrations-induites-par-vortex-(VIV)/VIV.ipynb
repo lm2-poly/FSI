{
 "cells": [
  {
   "cell_type": "markdown",
   "id": "41920257",
   "metadata": {},
   "source": [
    "# Vibrations induites par vortex - Vortex induced vibrations  \n",
    "\n",
    "Considérons un cas élémentaire où un cylindre rigide est sujet à un écoulement transverse uniforme. Il peut vibrer dans la direction de l'écoulement seulement, comme il est possible de le voir dans la figure ci-dessous.\n",
    "\n",
    "Consider an elementary case where a rigid cylinder is subjected to a uniform cross flow. It is allowed to vibrate in the cross-flow direction only as shown in the figure below.\n",
    "##### (Image tirée de - Image from [Païdoussis et al., 2010]) \n",
    " "
   ]
  },
  {
   "cell_type": "code",
   "execution_count": 3,
   "id": "eb87f0ac",
   "metadata": {},
   "outputs": [
    {
     "ename": "HTTPError",
     "evalue": "HTTP Error 404: Not Found",
     "output_type": "error",
     "traceback": [
      "\u001b[1;31m---------------------------------------------------------------------------\u001b[0m",
      "\u001b[1;31mHTTPError\u001b[0m                                 Traceback (most recent call last)",
      "\u001b[1;32m<ipython-input-3-5edc806eae0f>\u001b[0m in \u001b[0;36m<module>\u001b[1;34m\u001b[0m\n\u001b[0;32m      1\u001b[0m \u001b[1;32mfrom\u001b[0m \u001b[0mIPython\u001b[0m\u001b[1;33m.\u001b[0m\u001b[0mdisplay\u001b[0m \u001b[1;32mimport\u001b[0m \u001b[0mImage\u001b[0m\u001b[1;33m\u001b[0m\u001b[1;33m\u001b[0m\u001b[0m\n\u001b[1;32m----> 2\u001b[1;33m \u001b[0mImage\u001b[0m\u001b[1;33m(\u001b[0m\u001b[1;34m'https://raw.githubusercontent.com/lm2-poly/FSI/main/Chapitre-3_Vibrations-induites-par-vortex-(VIV)/Cylindre.PNG'\u001b[0m\u001b[1;33m)\u001b[0m\u001b[1;33m\u001b[0m\u001b[1;33m\u001b[0m\u001b[0m\n\u001b[0m",
      "\u001b[1;32mC:\\ProgramData\\Anaconda3\\lib\\site-packages\\IPython\\core\\display.py\u001b[0m in \u001b[0;36m__init__\u001b[1;34m(self, data, url, filename, format, embed, width, height, retina, unconfined, metadata)\u001b[0m\n\u001b[0;32m   1222\u001b[0m         \u001b[0mself\u001b[0m\u001b[1;33m.\u001b[0m\u001b[0mretina\u001b[0m \u001b[1;33m=\u001b[0m \u001b[0mretina\u001b[0m\u001b[1;33m\u001b[0m\u001b[1;33m\u001b[0m\u001b[0m\n\u001b[0;32m   1223\u001b[0m         \u001b[0mself\u001b[0m\u001b[1;33m.\u001b[0m\u001b[0munconfined\u001b[0m \u001b[1;33m=\u001b[0m \u001b[0munconfined\u001b[0m\u001b[1;33m\u001b[0m\u001b[1;33m\u001b[0m\u001b[0m\n\u001b[1;32m-> 1224\u001b[1;33m         super(Image, self).__init__(data=data, url=url, filename=filename, \n\u001b[0m\u001b[0;32m   1225\u001b[0m                 metadata=metadata)\n\u001b[0;32m   1226\u001b[0m \u001b[1;33m\u001b[0m\u001b[0m\n",
      "\u001b[1;32mC:\\ProgramData\\Anaconda3\\lib\\site-packages\\IPython\\core\\display.py\u001b[0m in \u001b[0;36m__init__\u001b[1;34m(self, data, url, filename, metadata)\u001b[0m\n\u001b[0;32m    628\u001b[0m             \u001b[0mself\u001b[0m\u001b[1;33m.\u001b[0m\u001b[0mmetadata\u001b[0m \u001b[1;33m=\u001b[0m \u001b[1;33m{\u001b[0m\u001b[1;33m}\u001b[0m\u001b[1;33m\u001b[0m\u001b[1;33m\u001b[0m\u001b[0m\n\u001b[0;32m    629\u001b[0m \u001b[1;33m\u001b[0m\u001b[0m\n\u001b[1;32m--> 630\u001b[1;33m         \u001b[0mself\u001b[0m\u001b[1;33m.\u001b[0m\u001b[0mreload\u001b[0m\u001b[1;33m(\u001b[0m\u001b[1;33m)\u001b[0m\u001b[1;33m\u001b[0m\u001b[1;33m\u001b[0m\u001b[0m\n\u001b[0m\u001b[0;32m    631\u001b[0m         \u001b[0mself\u001b[0m\u001b[1;33m.\u001b[0m\u001b[0m_check_data\u001b[0m\u001b[1;33m(\u001b[0m\u001b[1;33m)\u001b[0m\u001b[1;33m\u001b[0m\u001b[1;33m\u001b[0m\u001b[0m\n\u001b[0;32m    632\u001b[0m \u001b[1;33m\u001b[0m\u001b[0m\n",
      "\u001b[1;32mC:\\ProgramData\\Anaconda3\\lib\\site-packages\\IPython\\core\\display.py\u001b[0m in \u001b[0;36mreload\u001b[1;34m(self)\u001b[0m\n\u001b[0;32m   1254\u001b[0m         \u001b[1;34m\"\"\"Reload the raw data from file or URL.\"\"\"\u001b[0m\u001b[1;33m\u001b[0m\u001b[1;33m\u001b[0m\u001b[0m\n\u001b[0;32m   1255\u001b[0m         \u001b[1;32mif\u001b[0m \u001b[0mself\u001b[0m\u001b[1;33m.\u001b[0m\u001b[0membed\u001b[0m\u001b[1;33m:\u001b[0m\u001b[1;33m\u001b[0m\u001b[1;33m\u001b[0m\u001b[0m\n\u001b[1;32m-> 1256\u001b[1;33m             \u001b[0msuper\u001b[0m\u001b[1;33m(\u001b[0m\u001b[0mImage\u001b[0m\u001b[1;33m,\u001b[0m\u001b[0mself\u001b[0m\u001b[1;33m)\u001b[0m\u001b[1;33m.\u001b[0m\u001b[0mreload\u001b[0m\u001b[1;33m(\u001b[0m\u001b[1;33m)\u001b[0m\u001b[1;33m\u001b[0m\u001b[1;33m\u001b[0m\u001b[0m\n\u001b[0m\u001b[0;32m   1257\u001b[0m             \u001b[1;32mif\u001b[0m \u001b[0mself\u001b[0m\u001b[1;33m.\u001b[0m\u001b[0mretina\u001b[0m\u001b[1;33m:\u001b[0m\u001b[1;33m\u001b[0m\u001b[1;33m\u001b[0m\u001b[0m\n\u001b[0;32m   1258\u001b[0m                 \u001b[0mself\u001b[0m\u001b[1;33m.\u001b[0m\u001b[0m_retina_shape\u001b[0m\u001b[1;33m(\u001b[0m\u001b[1;33m)\u001b[0m\u001b[1;33m\u001b[0m\u001b[1;33m\u001b[0m\u001b[0m\n",
      "\u001b[1;32mC:\\ProgramData\\Anaconda3\\lib\\site-packages\\IPython\\core\\display.py\u001b[0m in \u001b[0;36mreload\u001b[1;34m(self)\u001b[0m\n\u001b[0;32m    658\u001b[0m             \u001b[1;31m# Deferred import\u001b[0m\u001b[1;33m\u001b[0m\u001b[1;33m\u001b[0m\u001b[1;33m\u001b[0m\u001b[0m\n\u001b[0;32m    659\u001b[0m             \u001b[1;32mfrom\u001b[0m \u001b[0murllib\u001b[0m\u001b[1;33m.\u001b[0m\u001b[0mrequest\u001b[0m \u001b[1;32mimport\u001b[0m \u001b[0murlopen\u001b[0m\u001b[1;33m\u001b[0m\u001b[1;33m\u001b[0m\u001b[0m\n\u001b[1;32m--> 660\u001b[1;33m             \u001b[0mresponse\u001b[0m \u001b[1;33m=\u001b[0m \u001b[0murlopen\u001b[0m\u001b[1;33m(\u001b[0m\u001b[0mself\u001b[0m\u001b[1;33m.\u001b[0m\u001b[0murl\u001b[0m\u001b[1;33m)\u001b[0m\u001b[1;33m\u001b[0m\u001b[1;33m\u001b[0m\u001b[0m\n\u001b[0m\u001b[0;32m    661\u001b[0m             \u001b[0mdata\u001b[0m \u001b[1;33m=\u001b[0m \u001b[0mresponse\u001b[0m\u001b[1;33m.\u001b[0m\u001b[0mread\u001b[0m\u001b[1;33m(\u001b[0m\u001b[1;33m)\u001b[0m\u001b[1;33m\u001b[0m\u001b[1;33m\u001b[0m\u001b[0m\n\u001b[0;32m    662\u001b[0m             \u001b[1;31m# extract encoding from header, if there is one:\u001b[0m\u001b[1;33m\u001b[0m\u001b[1;33m\u001b[0m\u001b[1;33m\u001b[0m\u001b[0m\n",
      "\u001b[1;32mC:\\ProgramData\\Anaconda3\\lib\\urllib\\request.py\u001b[0m in \u001b[0;36murlopen\u001b[1;34m(url, data, timeout, cafile, capath, cadefault, context)\u001b[0m\n\u001b[0;32m    220\u001b[0m     \u001b[1;32melse\u001b[0m\u001b[1;33m:\u001b[0m\u001b[1;33m\u001b[0m\u001b[1;33m\u001b[0m\u001b[0m\n\u001b[0;32m    221\u001b[0m         \u001b[0mopener\u001b[0m \u001b[1;33m=\u001b[0m \u001b[0m_opener\u001b[0m\u001b[1;33m\u001b[0m\u001b[1;33m\u001b[0m\u001b[0m\n\u001b[1;32m--> 222\u001b[1;33m     \u001b[1;32mreturn\u001b[0m \u001b[0mopener\u001b[0m\u001b[1;33m.\u001b[0m\u001b[0mopen\u001b[0m\u001b[1;33m(\u001b[0m\u001b[0murl\u001b[0m\u001b[1;33m,\u001b[0m \u001b[0mdata\u001b[0m\u001b[1;33m,\u001b[0m \u001b[0mtimeout\u001b[0m\u001b[1;33m)\u001b[0m\u001b[1;33m\u001b[0m\u001b[1;33m\u001b[0m\u001b[0m\n\u001b[0m\u001b[0;32m    223\u001b[0m \u001b[1;33m\u001b[0m\u001b[0m\n\u001b[0;32m    224\u001b[0m \u001b[1;32mdef\u001b[0m \u001b[0minstall_opener\u001b[0m\u001b[1;33m(\u001b[0m\u001b[0mopener\u001b[0m\u001b[1;33m)\u001b[0m\u001b[1;33m:\u001b[0m\u001b[1;33m\u001b[0m\u001b[1;33m\u001b[0m\u001b[0m\n",
      "\u001b[1;32mC:\\ProgramData\\Anaconda3\\lib\\urllib\\request.py\u001b[0m in \u001b[0;36mopen\u001b[1;34m(self, fullurl, data, timeout)\u001b[0m\n\u001b[0;32m    529\u001b[0m         \u001b[1;32mfor\u001b[0m \u001b[0mprocessor\u001b[0m \u001b[1;32min\u001b[0m \u001b[0mself\u001b[0m\u001b[1;33m.\u001b[0m\u001b[0mprocess_response\u001b[0m\u001b[1;33m.\u001b[0m\u001b[0mget\u001b[0m\u001b[1;33m(\u001b[0m\u001b[0mprotocol\u001b[0m\u001b[1;33m,\u001b[0m \u001b[1;33m[\u001b[0m\u001b[1;33m]\u001b[0m\u001b[1;33m)\u001b[0m\u001b[1;33m:\u001b[0m\u001b[1;33m\u001b[0m\u001b[1;33m\u001b[0m\u001b[0m\n\u001b[0;32m    530\u001b[0m             \u001b[0mmeth\u001b[0m \u001b[1;33m=\u001b[0m \u001b[0mgetattr\u001b[0m\u001b[1;33m(\u001b[0m\u001b[0mprocessor\u001b[0m\u001b[1;33m,\u001b[0m \u001b[0mmeth_name\u001b[0m\u001b[1;33m)\u001b[0m\u001b[1;33m\u001b[0m\u001b[1;33m\u001b[0m\u001b[0m\n\u001b[1;32m--> 531\u001b[1;33m             \u001b[0mresponse\u001b[0m \u001b[1;33m=\u001b[0m \u001b[0mmeth\u001b[0m\u001b[1;33m(\u001b[0m\u001b[0mreq\u001b[0m\u001b[1;33m,\u001b[0m \u001b[0mresponse\u001b[0m\u001b[1;33m)\u001b[0m\u001b[1;33m\u001b[0m\u001b[1;33m\u001b[0m\u001b[0m\n\u001b[0m\u001b[0;32m    532\u001b[0m \u001b[1;33m\u001b[0m\u001b[0m\n\u001b[0;32m    533\u001b[0m         \u001b[1;32mreturn\u001b[0m \u001b[0mresponse\u001b[0m\u001b[1;33m\u001b[0m\u001b[1;33m\u001b[0m\u001b[0m\n",
      "\u001b[1;32mC:\\ProgramData\\Anaconda3\\lib\\urllib\\request.py\u001b[0m in \u001b[0;36mhttp_response\u001b[1;34m(self, request, response)\u001b[0m\n\u001b[0;32m    638\u001b[0m         \u001b[1;31m# request was successfully received, understood, and accepted.\u001b[0m\u001b[1;33m\u001b[0m\u001b[1;33m\u001b[0m\u001b[1;33m\u001b[0m\u001b[0m\n\u001b[0;32m    639\u001b[0m         \u001b[1;32mif\u001b[0m \u001b[1;32mnot\u001b[0m \u001b[1;33m(\u001b[0m\u001b[1;36m200\u001b[0m \u001b[1;33m<=\u001b[0m \u001b[0mcode\u001b[0m \u001b[1;33m<\u001b[0m \u001b[1;36m300\u001b[0m\u001b[1;33m)\u001b[0m\u001b[1;33m:\u001b[0m\u001b[1;33m\u001b[0m\u001b[1;33m\u001b[0m\u001b[0m\n\u001b[1;32m--> 640\u001b[1;33m             response = self.parent.error(\n\u001b[0m\u001b[0;32m    641\u001b[0m                 'http', request, response, code, msg, hdrs)\n\u001b[0;32m    642\u001b[0m \u001b[1;33m\u001b[0m\u001b[0m\n",
      "\u001b[1;32mC:\\ProgramData\\Anaconda3\\lib\\urllib\\request.py\u001b[0m in \u001b[0;36merror\u001b[1;34m(self, proto, *args)\u001b[0m\n\u001b[0;32m    567\u001b[0m         \u001b[1;32mif\u001b[0m \u001b[0mhttp_err\u001b[0m\u001b[1;33m:\u001b[0m\u001b[1;33m\u001b[0m\u001b[1;33m\u001b[0m\u001b[0m\n\u001b[0;32m    568\u001b[0m             \u001b[0margs\u001b[0m \u001b[1;33m=\u001b[0m \u001b[1;33m(\u001b[0m\u001b[0mdict\u001b[0m\u001b[1;33m,\u001b[0m \u001b[1;34m'default'\u001b[0m\u001b[1;33m,\u001b[0m \u001b[1;34m'http_error_default'\u001b[0m\u001b[1;33m)\u001b[0m \u001b[1;33m+\u001b[0m \u001b[0morig_args\u001b[0m\u001b[1;33m\u001b[0m\u001b[1;33m\u001b[0m\u001b[0m\n\u001b[1;32m--> 569\u001b[1;33m             \u001b[1;32mreturn\u001b[0m \u001b[0mself\u001b[0m\u001b[1;33m.\u001b[0m\u001b[0m_call_chain\u001b[0m\u001b[1;33m(\u001b[0m\u001b[1;33m*\u001b[0m\u001b[0margs\u001b[0m\u001b[1;33m)\u001b[0m\u001b[1;33m\u001b[0m\u001b[1;33m\u001b[0m\u001b[0m\n\u001b[0m\u001b[0;32m    570\u001b[0m \u001b[1;33m\u001b[0m\u001b[0m\n\u001b[0;32m    571\u001b[0m \u001b[1;31m# XXX probably also want an abstract factory that knows when it makes\u001b[0m\u001b[1;33m\u001b[0m\u001b[1;33m\u001b[0m\u001b[1;33m\u001b[0m\u001b[0m\n",
      "\u001b[1;32mC:\\ProgramData\\Anaconda3\\lib\\urllib\\request.py\u001b[0m in \u001b[0;36m_call_chain\u001b[1;34m(self, chain, kind, meth_name, *args)\u001b[0m\n\u001b[0;32m    500\u001b[0m         \u001b[1;32mfor\u001b[0m \u001b[0mhandler\u001b[0m \u001b[1;32min\u001b[0m \u001b[0mhandlers\u001b[0m\u001b[1;33m:\u001b[0m\u001b[1;33m\u001b[0m\u001b[1;33m\u001b[0m\u001b[0m\n\u001b[0;32m    501\u001b[0m             \u001b[0mfunc\u001b[0m \u001b[1;33m=\u001b[0m \u001b[0mgetattr\u001b[0m\u001b[1;33m(\u001b[0m\u001b[0mhandler\u001b[0m\u001b[1;33m,\u001b[0m \u001b[0mmeth_name\u001b[0m\u001b[1;33m)\u001b[0m\u001b[1;33m\u001b[0m\u001b[1;33m\u001b[0m\u001b[0m\n\u001b[1;32m--> 502\u001b[1;33m             \u001b[0mresult\u001b[0m \u001b[1;33m=\u001b[0m \u001b[0mfunc\u001b[0m\u001b[1;33m(\u001b[0m\u001b[1;33m*\u001b[0m\u001b[0margs\u001b[0m\u001b[1;33m)\u001b[0m\u001b[1;33m\u001b[0m\u001b[1;33m\u001b[0m\u001b[0m\n\u001b[0m\u001b[0;32m    503\u001b[0m             \u001b[1;32mif\u001b[0m \u001b[0mresult\u001b[0m \u001b[1;32mis\u001b[0m \u001b[1;32mnot\u001b[0m \u001b[1;32mNone\u001b[0m\u001b[1;33m:\u001b[0m\u001b[1;33m\u001b[0m\u001b[1;33m\u001b[0m\u001b[0m\n\u001b[0;32m    504\u001b[0m                 \u001b[1;32mreturn\u001b[0m \u001b[0mresult\u001b[0m\u001b[1;33m\u001b[0m\u001b[1;33m\u001b[0m\u001b[0m\n",
      "\u001b[1;32mC:\\ProgramData\\Anaconda3\\lib\\urllib\\request.py\u001b[0m in \u001b[0;36mhttp_error_default\u001b[1;34m(self, req, fp, code, msg, hdrs)\u001b[0m\n\u001b[0;32m    647\u001b[0m \u001b[1;32mclass\u001b[0m \u001b[0mHTTPDefaultErrorHandler\u001b[0m\u001b[1;33m(\u001b[0m\u001b[0mBaseHandler\u001b[0m\u001b[1;33m)\u001b[0m\u001b[1;33m:\u001b[0m\u001b[1;33m\u001b[0m\u001b[1;33m\u001b[0m\u001b[0m\n\u001b[0;32m    648\u001b[0m     \u001b[1;32mdef\u001b[0m \u001b[0mhttp_error_default\u001b[0m\u001b[1;33m(\u001b[0m\u001b[0mself\u001b[0m\u001b[1;33m,\u001b[0m \u001b[0mreq\u001b[0m\u001b[1;33m,\u001b[0m \u001b[0mfp\u001b[0m\u001b[1;33m,\u001b[0m \u001b[0mcode\u001b[0m\u001b[1;33m,\u001b[0m \u001b[0mmsg\u001b[0m\u001b[1;33m,\u001b[0m \u001b[0mhdrs\u001b[0m\u001b[1;33m)\u001b[0m\u001b[1;33m:\u001b[0m\u001b[1;33m\u001b[0m\u001b[1;33m\u001b[0m\u001b[0m\n\u001b[1;32m--> 649\u001b[1;33m         \u001b[1;32mraise\u001b[0m \u001b[0mHTTPError\u001b[0m\u001b[1;33m(\u001b[0m\u001b[0mreq\u001b[0m\u001b[1;33m.\u001b[0m\u001b[0mfull_url\u001b[0m\u001b[1;33m,\u001b[0m \u001b[0mcode\u001b[0m\u001b[1;33m,\u001b[0m \u001b[0mmsg\u001b[0m\u001b[1;33m,\u001b[0m \u001b[0mhdrs\u001b[0m\u001b[1;33m,\u001b[0m \u001b[0mfp\u001b[0m\u001b[1;33m)\u001b[0m\u001b[1;33m\u001b[0m\u001b[1;33m\u001b[0m\u001b[0m\n\u001b[0m\u001b[0;32m    650\u001b[0m \u001b[1;33m\u001b[0m\u001b[0m\n\u001b[0;32m    651\u001b[0m \u001b[1;32mclass\u001b[0m \u001b[0mHTTPRedirectHandler\u001b[0m\u001b[1;33m(\u001b[0m\u001b[0mBaseHandler\u001b[0m\u001b[1;33m)\u001b[0m\u001b[1;33m:\u001b[0m\u001b[1;33m\u001b[0m\u001b[1;33m\u001b[0m\u001b[0m\n",
      "\u001b[1;31mHTTPError\u001b[0m: HTTP Error 404: Not Found"
     ]
    }
   ],
   "source": [
    "from IPython.display import Image\n",
    "Image('https://raw.githubusercontent.com/lm2-poly/FSI/main/Chapitre-3_Vibrations-induites-par-vortex-(VIV)/Cylindre.PNG')"
   ]
  },
  {
   "cell_type": "markdown",
   "id": "781026da",
   "metadata": {},
   "source": [
    "Le mouvement du cylindre est supposé suivre celui d'un oscillateur - The motion of the cylinder is assumed to follow that of an oscillator:  \n",
    "### $m \\ddot y + Ky = F_L(t)$,\n",
    "où $m = m_s + m_f$ inclus la masse ajoutée, $F_L(t) = \\frac{1}{2}\\rho D L U^2 C_L(t)$ la portance, et $f_s = \\frac{1}{2 \\pi}\\sqrt{K/m}$ la fréquence naturelle de l'oscillateur - where $m = m_s + m_f$ includes the added mass, $F_L(t) = \\frac{1}{2}\\rho D L U^2 C_L(t)$ is the lift force, and $f_s = \\frac{1}{2 \\pi}\\sqrt{K/m}$ is the natural frequency of the oscillator.\n",
    "Le coefficient dimensionnel de portance peut être approximé par $C_L(t) = C_{L0}sin(2\\pi f_{lt}t)$, où $C_{L0} = 0.3$, et $f_{lt} = S_t U/D$,$S_t = 0.2$ est la fréquence du vortex.  $\\implies$ Le coefficient de portance suit l'équation de l'oscillateur :\n",
    "\n",
    "The dimensionless lift coefficient can be approximated as $C_L(t) = C_{L0}sin(2\\pi f_{lt}t)$, where $C_{L0} = 0.3$, and $f_{lt} = S_t U/D$,$S_t = 0.2$ is the vortex frequency.  $\\implies$ The lift coefficient follows the oscillator equation: \n",
    "### $\\ddot C_L + (2\\pi f_{lt})^2 C_L = \\alpha \\frac{\\ddot y}{D}$.\n",
    "Le terme de forçage est présent car le mouvement du cylindre est de l'ordre de son diamètre, et il affecte donc les dynamiques de vorticité qui mène à de la portance.\n",
    "\n",
    "The forcing term is present because the motion of the cylinder is of the order of its diameter, hence, it affects the vorticity dynamics which leads to lift.  \n",
    "$\\implies$ Ces deux équations représentent le système couplé - These two equations represent the coupled system.  \n",
    "## Nombres adimensionnels - Dimensionless quantities  \n",
    "### $M = \\frac{\\rho L D^2}{2 \\pi ^2 m S_T^2} $,   $S_T = \\frac{f_{lt}D}{U}$,   $U_R = \\frac{U}{f_s D}$,   $\\tau = 2 \\pi f_s t$,     $\\xi = \\frac{y}{D}$  \n",
    "$\\implies$ Les équations adimensionnelles couplées - The non-dimensional coupled equations:  \n",
    "### $\\ddot \\xi + \\xi = S_T^2 U_R^2 M C_L $  \n",
    "### $\\ddot C_L + S_T^2 U_R^2 C_L = \\alpha \\ddot \\xi$  \n",
    "définissent - define $\\Omega = S_T U_R$.  \n",
    "\n",
    "Dans une forme matricielle - In a matrix form:\n",
    "\\begin{equation*}\n",
    "\\begin{bmatrix} 1 & 0 \\\\ -\\alpha  & 1  \\end{bmatrix}\n",
    "\\begin{Bmatrix}  \\ddot{\\xi}\\\\  \\ddot C_L  \\end{Bmatrix}\n",
    "+\n",
    "\\begin{bmatrix}\n",
    "1 & -\\Omega^2 M \\\\ 0 & \\Omega^2\n",
    "\\end{bmatrix}\n",
    "\\begin{Bmatrix}  {\\xi}\\\\   C_L  \\end{Bmatrix}\n",
    "=\n",
    "\\begin{Bmatrix}  0\\\\  0  \\end{Bmatrix}\n",
    "\\end{equation*}  \n",
    "Soit la solution - Let the solution be: \n",
    "\n",
    "\\begin{equation*}\n",
    "\\begin{Bmatrix}  \\xi (\\tau) \\\\  C_L (\\tau)  \\end{Bmatrix}\n",
    "=\n",
    "\\begin{Bmatrix}  \\hat \\xi \\\\  \\hat C_L  \\end{Bmatrix}\n",
    "e^{iw\\tau}\n",
    "\\end{equation*}  \n",
    "$\\implies$ \n",
    "\\begin{equation*}\n",
    "\\begin{bmatrix}\n",
    "1 - \\omega ^2 & -\\Omega^2 M \\\\ \\alpha \\omega^2 & \\Omega^2 -\\omega^2\n",
    "\\end{bmatrix}\n",
    "\\begin{Bmatrix}  \\hat \\xi \\\\  \\hat C_L  \\end{Bmatrix}\n",
    "e^{iw\\tau}\n",
    "=\n",
    "\\begin{Bmatrix}  0\\\\  0  \\end{Bmatrix}\n",
    "\\end{equation*} \n",
    "Maintenant, en évaluant le déterminant de l'équation matricielle, on obtient une équation quartique dont les racines sont les fréquences naturelles du système pour un valeur $\\Omega$ donnée. En traçant les fréquences pour différentes valeurs $\\Omega$, on peut observer un intervalle où seulement une fréquence existe dans le système près de $f_{lt}=f_s$. De plus, un mode instable avec de l'amortissement négatif apparaît dans cet intervalle. Une démonstration sur la résolution pour les fréquences naturelles et les modes propres de n'importe quel problème général couplé est donnée dans le code ci-dessous.\n",
    "\n",
    "Now, by evaluating the determinant of this matrix equation, we get a quartic equation in which its roots are the natural frequencies of the system for a given $\\Omega$ value. By plotting the frequencies for different $\\Omega$ values, we can observe a range where only one frequency exists in the system near $f_{lt}=f_s$. Also, a mode with negative damping appears in this range which is the unstable mode. A demonstration on how to solve for the eigen values and eigen vectors for any general coupled problem is provided in the following code.\n",
    "  \n",
    "  \n",
    "  \n",
    "## Remarque finale : le couplage entre le mouvement de la structure et les dynamiques de portance crée des vibrations induites par vortex, ce qui représente un cas d'instabilité induite par l'écoulement. \n",
    "\n",
    "## A final remark: coupling between the motion of the structure and the lift dynamics creates vortex-induced vibrations which represents a case of flow-induced instability.  \n",
    "\n",
    "### ** Pour plus de détails, veuillez consulter les notes de cours sur Moodle.  Vous pouvez trouver les vidéos des cours dans le lien Youtube ci-dessous. For more details please advise the course notes on moodle. You can find the lectures' vidoes in the following youtube link: \n",
    "https://www.youtube.com/playlist?list=PLELkG-6HgaYj-60sBwbYTYTbnIGkuBVTk\n",
    "#### Le code suit la logique trouvée ici - The code used followed the logic in here: \n",
    "https://ernie55ernie.github.io/python/2016/12/17/two-degree-freedom-system-containing-two-springs-and-two-masses.html"
   ]
  },
  {
   "cell_type": "code",
   "execution_count": 2,
   "id": "25c488a6",
   "metadata": {},
   "outputs": [],
   "source": [
    "# =============================================================================\n",
    "# Define libraries\n",
    "# =============================================================================\n",
    "import numpy as np \n",
    "import matplotlib.pyplot as plt\n",
    "import scipy.linalg as la"
   ]
  },
  {
   "cell_type": "code",
   "execution_count": 3,
   "id": "0115a79c",
   "metadata": {},
   "outputs": [],
   "source": [
    "# =============================================================================\n",
    "# Define system parameters\n",
    "# =============================================================================\n",
    "\n",
    "alpha = 1.\n",
    "ST    = 0.2\n",
    "M     = 0.1\n",
    "Omega = np.linspace(0.,4.,100)\n",
    "rrt = np.zeros((len(Omega),2))    # 2D array for the real part of the frequencies for each Omega\n",
    "rrI = np.zeros((len(Omega),2))    # 2D array for the Imaginary part of the frequencies for each Omega"
   ]
  },
  {
   "cell_type": "code",
   "execution_count": 4,
   "id": "b6f9cf91",
   "metadata": {},
   "outputs": [],
   "source": [
    "# A loop to solve for the natural frequencies for each Omega\n",
    "for z in range(len(Omega)):\n",
    "# =============================================================================\n",
    "# Constructing the massand stiffness matrix\n",
    "# =============================================================================\n",
    "    m_Matrix = np.array([[1,0],[-alpha,1]])                     # Mass matrix\n",
    "    k_Matrix = np.array([[1,-Omega[z]**2*M],[0,Omega[z]**2]])   # Stiffness matrix\n",
    "\n",
    "# =============================================================================\n",
    "# Find the eigenvalues and eigenvactors and ordering them by magnitude of frequency\n",
    "# =============================================================================\n",
    "    eigens, vecs = la.eig(a = k_Matrix, b = m_Matrix) # Eigen values, and eigen vectors\n",
    "    \n",
    "    #arg = np.argsort(eigens)                          # Ordering\n",
    "    #eigens = np.array(eigens)[arg]\n",
    "    #vecs = np.array(vecs)[arg]\n",
    "    \n",
    "# =============================================================================\n",
    "# Evaluating natural frequencies\n",
    "# =============================================================================\n",
    "    n_fs = np.sqrt(eigens)    # Natural frequencies for each Omega\n",
    "    rrt[z] = n_fs.real        # Real part of natural frequencies for each Omega\n",
    "    rrI[z] = n_fs.imag        # Imainary part of natural frequencies for each Omega    "
   ]
  },
  {
   "cell_type": "code",
   "execution_count": 5,
   "id": "f210a38a",
   "metadata": {},
   "outputs": [
    {
     "data": {
      "image/png": "[encoded data removed]",
      "text/plain": [
       "<Figure size 720x504 with 2 Axes>"
      ]
     },
     "metadata": {
      "needs_background": "light"
     },
     "output_type": "display_data"
    }
   ],
   "source": [
    "# =============================================================================\n",
    "# Plotting\n",
    "# ============================================================================= \n",
    "plt.rcParams['figure.figsize'] = [10, 7]\n",
    "fig, (ax1, ax2) = plt.subplots(2, sharex=True)\n",
    "fig.suptitle(r'Frequency VS $\\Omega$',fontsize = 25.0)\n",
    "ax1.scatter(Omega,rrt[:,0],s=5)\n",
    "ax1.scatter(Omega,rrt[:,1],s=5)\n",
    "ax2.scatter(Omega,rrI[:,0],s=5)\n",
    "ax2.scatter(Omega,rrI[:,1],s=5)\n",
    "plt.xlabel(r'$\\Omega$',fontsize = 20.0)\n",
    "ax1.set_ylabel('Real'' ''$\\omega$',fontsize = 20.0)\n",
    "ax2.set_ylabel('Imaginary'' ''$\\omega$',fontsize = 20.0)\n",
    "ax1.legend([r\"$\\omega$ 2\",'$\\omega$ 1'],fontsize = 15.0)\n",
    "ax2.legend([r\"$\\omega$ 2\",'$\\omega$ 1'],fontsize = 15.0)\n",
    "plt.show()"
   ]
  },
  {
   "cell_type": "code",
   "execution_count": null,
   "id": "3c639b4f",
   "metadata": {},
   "outputs": [],
   "source": []
  }
 ],
 "metadata": {
  "kernelspec": {
   "display_name": "Python 3",
   "language": "python",
   "name": "python3"
  },
  "language_info": {
   "codemirror_mode": {
    "name": "ipython",
    "version": 3
   },
   "file_extension": ".py",
   "mimetype": "text/x-python",
   "name": "python",
   "nbconvert_exporter": "python",
   "pygments_lexer": "ipython3",
   "version": "3.8.8"
  }
 },
 "nbformat": 4,
 "nbformat_minor": 5
}
